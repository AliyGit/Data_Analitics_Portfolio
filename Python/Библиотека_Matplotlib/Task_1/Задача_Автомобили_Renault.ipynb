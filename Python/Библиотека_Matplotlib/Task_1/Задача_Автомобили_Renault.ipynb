{
 "cells": [
  {
   "cell_type": "markdown",
   "id": "5400f90d",
   "metadata": {},
   "source": [
    "**Дан файл Renault.csv** с информацией по каждой марке \n",
    "\n",
    "1. Разобрать файл Renault.csv и данные отобразить в виде массивов\n",
    "2. Показать минимальную стоимость машины из массива \n",
    "3. Показать самую высокую стоимость машины из массива \n",
    "4. Просчитать средний пробег марки Renault Sandero I Stepway\n",
    "5. Указать марку машины с самой изкой стоимостью \n",
    "6. Указать пробег самой дешевой машины \n",
    "7. Построить график зависимости стоимости машин от пробега \n",
    "8. Построить диаграмму количества машин за каждый год из массива "
   ]
  }
 ],
 "metadata": {
  "kernelspec": {
   "display_name": "Python 3 (ipykernel)",
   "language": "python",
   "name": "python3"
  },
  "language_info": {
   "codemirror_mode": {
    "name": "ipython",
    "version": 3
   },
   "file_extension": ".py",
   "mimetype": "text/x-python",
   "name": "python",
   "nbconvert_exporter": "python",
   "pygments_lexer": "ipython3",
   "version": "3.8.7"
  }
 },
 "nbformat": 4,
 "nbformat_minor": 5
}
