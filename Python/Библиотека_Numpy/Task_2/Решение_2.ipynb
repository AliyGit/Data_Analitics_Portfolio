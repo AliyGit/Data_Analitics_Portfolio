{
 "cells": [
  {
   "cell_type": "markdown",
   "id": "1cb2fc0d",
   "metadata": {},
   "source": [
    "**Дан файл countries.csv**\n",
    "\n",
    "В данном файле список стран и численность населения с 1952 по 2007 гг. с диапазоном в 5 лет "
   ]
  },
  {
   "cell_type": "markdown",
   "id": "3309d74c",
   "metadata": {},
   "source": [
    "1. Распаковать файл и данные сохранить в виде массивов \n",
    "2. Представить численность населения в виде миллиона человек \n",
    "3. Сделать массив населений двумерным из одномерного\n",
    "4. Вычислить население всех стран в 2002 году\n",
    "5. Посчитать прирост населения Алжира за каждые 5 лет с 1952 по 2007 гг. "
   ]
  },
  {
   "cell_type": "code",
   "execution_count": 36,
   "id": "6208dc33",
   "metadata": {},
   "outputs": [
    {
     "name": "stdout",
     "output_type": "stream",
     "text": [
      "['Afghanistan' 'Afghanistan' 'Afghanistan' ... 'Zimbabwe' 'Zimbabwe'\n",
      " 'Zimbabwe'] [1952 1957 1962 ... 1997 2002 2007] [ 8425333  9240934 10267083 ... 11404948 11926563 12311143]\n"
     ]
    }
   ],
   "source": [
    "# Распакуем файл и добавим данные в массивы \n",
    "\n",
    "import csv\n",
    "import numpy as np\n",
    "\n",
    "\n",
    "f = open(r\"C:\\Users\\VikhlyantsevAA\\Desktop\\15. Программирование на языке Python. Уровень 4. Анализ и визуализация данных\\Материалы с курса\\Датасеты\\countries.csv\")\n",
    "numbers_of_lines = len(f.readlines()) - 1  # Общее кол-во строк без заголовка\n",
    "f.seek(0)                                  # Возвращаем курсор в самое начало файла \n",
    "\n",
    "\n",
    "header = f.readline()  # Читаем заголовок\n",
    "data = csv.reader(f)   # Записываем данные и присваиваем переменной data \n",
    "\n",
    "\n",
    "countries = np.empty(numbers_of_lines, dtype=(str, 15))    # Создаём пустой список стран \n",
    "years = np.empty(numbers_of_lines, dtype=np.uint64)        # Создаём пустой список годов \n",
    "populations = np.empty(numbers_of_lines, dtype=np.uint64)  # Создаём пустой список численности населения \n",
    "\n",
    "\n",
    "i = 0\n",
    "for row in data:\n",
    "    country = row[0]\n",
    "    year = row[1]\n",
    "    population = row[2]\n",
    "\n",
    "    countries[i] = country\n",
    "    years[i] = year\n",
    "    populations[i] = population\n",
    "\n",
    "    i += 1 \n",
    "\n",
    "print(countries, years, populations)"
   ]
  },
  {
   "cell_type": "code",
   "execution_count": 37,
   "id": "b1f03375",
   "metadata": {},
   "outputs": [],
   "source": [
    "# Сохраним массивы в виде отдельных файлов:\n",
    "\n",
    "np.savez('countries.npz', c=countries, y=years, p=populations)\n",
    "countries_data = np.load('countries.npz')"
   ]
  },
  {
   "cell_type": "code",
   "execution_count": 38,
   "id": "a6730d4e",
   "metadata": {},
   "outputs": [
    {
     "name": "stdout",
     "output_type": "stream",
     "text": [
      "['Afghanistan' 'Afghanistan' 'Afghanistan' ... 'Zimbabwe' 'Zimbabwe'\n",
      " 'Zimbabwe']\n",
      "[1952 1957 1962 ... 1997 2002 2007]\n",
      "[ 8425333  9240934 10267083 ... 11404948 11926563 12311143]\n"
     ]
    }
   ],
   "source": [
    "# Присваиваем переменные массивам из файла countries.npz:\n",
    "\n",
    "countries = countries_data['c']    # Присваиваем переменную странам из отдельного файла\n",
    "years = countries_data['y']        # Присваиваем переменную годам из отдельного файла\n",
    "populations = countries_data['p']  # Присваиваем переменную численности населения из отдельного файла\n",
    "\n",
    "print(countries)\n",
    "print(years)\n",
    "print(populations)"
   ]
  },
  {
   "cell_type": "code",
   "execution_count": 39,
   "id": "4bfe890d",
   "metadata": {},
   "outputs": [
    {
     "name": "stdout",
     "output_type": "stream",
     "text": [
      "[ 8.425333  9.240934 10.267083 ... 11.404948 11.926563 12.311143]\n"
     ]
    }
   ],
   "source": [
    "# Численность населения в млн.чел:\n",
    "\n",
    "population_millions = populations / 1_000_000\n",
    "print(population_millions)"
   ]
  },
  {
   "cell_type": "code",
   "execution_count": 40,
   "id": "ce3e410d",
   "metadata": {},
   "outputs": [
    {
     "name": "stdout",
     "output_type": "stream",
     "text": [
      "[[ 8425333  9240934 10267083 ... 22227415 25268405 31889923]\n",
      " [ 1282697  1476505  1728137 ...  3428038  3508512  3600523]\n",
      " [ 9279525 10270856 11000948 ... 29072015 31287142 33333216]\n",
      " ...\n",
      " [ 4963829  5498090  6120081 ... 15826497 18701257 22211743]\n",
      " [ 2672000  3016000  3421000 ...  9417789 10595811 11746035]\n",
      " [ 3080907  3646340  4277736 ... 11404948 11926563 12311143]]\n",
      "Размер матрицы: (142, 12)\n"
     ]
    }
   ],
   "source": [
    "# Двумерный массив:\n",
    "\n",
    "# Так как у нас данные по 12-ти годам, то укажем неопределенной количество строк и 12 столбцов по годам \n",
    "\n",
    "population_matrix = populations.reshape(-1, 12)  \n",
    "print(population_matrix)\n",
    "\n",
    "print(f\"Размер матрицы: {population_matrix.shape}\")"
   ]
  },
  {
   "cell_type": "code",
   "execution_count": 48,
   "id": "58bf2404",
   "metadata": {},
   "outputs": [
    {
     "name": "stdout",
     "output_type": "stream",
     "text": [
      "Числонность населения за 2002 год: 5886977579 человек\n"
     ]
    }
   ],
   "source": [
    "# Численность населения за 2002 \n",
    "\n",
    "year_2002_column_index = 10\n",
    "\n",
    "population_2002 = population_matrix[ : , year_2002_column_index].sum()\n",
    "print(f\"Числонность населения за 2002 год: {population_2002} человек\")"
   ]
  },
  {
   "cell_type": "code",
   "execution_count": 68,
   "id": "917089fd",
   "metadata": {},
   "outputs": [
    {
     "name": "stdout",
     "output_type": "stream",
     "text": [
      "[ 991331  730092 1759551 2000288 2392017 2880949 3221203 3043417 2773642\n",
      " 2215127 2046074]\n",
      "[ 991331  730092 1759551 2000288 2392017 2880949 3221203 3043417 2773642\n",
      " 2215127 2046074]\n"
     ]
    }
   ],
   "source": [
    "# Прирост населения Алжира \n",
    "\n",
    "algeria_idx_row = 2 # Индекс строки Алжира в массиве \n",
    "\n",
    "algeria_population = population_matrix[algeria_idx_row] # Население Алжира с 1952 по 2007 гг. с диапазоном в 5 лет \n",
    "\n",
    "# Первый вариант решения:\n",
    "increases_algeria_popul = algeria_population[1:] - algeria_population[:-1]\n",
    "print(increases_algeria_popul)\n",
    "\n",
    "\n",
    "# Втрой вариант решения:\n",
    "increases_algeria_popul_2 = np.diff(algeria_population)\n",
    "print(increases_algeria_popul_2)"
   ]
  },
  {
   "cell_type": "code",
   "execution_count": null,
   "id": "801429a7",
   "metadata": {},
   "outputs": [],
   "source": []
  }
 ],
 "metadata": {
  "kernelspec": {
   "display_name": "Python 3 (ipykernel)",
   "language": "python",
   "name": "python3"
  },
  "language_info": {
   "codemirror_mode": {
    "name": "ipython",
    "version": 3
   },
   "file_extension": ".py",
   "mimetype": "text/x-python",
   "name": "python",
   "nbconvert_exporter": "python",
   "pygments_lexer": "ipython3",
   "version": "3.8.7"
  }
 },
 "nbformat": 4,
 "nbformat_minor": 5
}
