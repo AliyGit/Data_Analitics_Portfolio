{
 "cells": [
  {
   "cell_type": "markdown",
   "id": "1cb2fc0d",
   "metadata": {},
   "source": [
    "**Дан файл countries.csv**\n",
    "\n",
    "В данном файле список стран и численность населения с 1952 по 2007 гг. с диапазоном в 5 лет "
   ]
  },
  {
   "cell_type": "markdown",
   "id": "3309d74c",
   "metadata": {},
   "source": [
    "1. Распаковать файл и данные сохранить в виде массивов \n",
    "2. Представить численность населения в виде миллиона человек \n",
    "3. Сделать массив населений двумерным из одномерного\n",
    "4. Вычислить население всех стран в 2002 году\n",
    "5. Посчитать прирост населения Алжира за каждые 5 лет с 1952 по 2007 гг. "
   ]
  }
 ],
 "metadata": {
  "kernelspec": {
   "display_name": "Python 3 (ipykernel)",
   "language": "python",
   "name": "python3"
  },
  "language_info": {
   "codemirror_mode": {
    "name": "ipython",
    "version": 3
   },
   "file_extension": ".py",
   "mimetype": "text/x-python",
   "name": "python",
   "nbconvert_exporter": "python",
   "pygments_lexer": "ipython3",
   "version": "3.8.7"
  }
 },
 "nbformat": 4,
 "nbformat_minor": 5
}
