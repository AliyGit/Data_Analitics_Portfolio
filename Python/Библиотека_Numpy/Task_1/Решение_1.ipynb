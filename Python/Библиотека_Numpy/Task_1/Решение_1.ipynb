{
 "cells": [
  {
   "cell_type": "markdown",
   "id": "d90c5f2d",
   "metadata": {},
   "source": [
    "**Дан чек из супермаркета:**"
   ]
  },
  {
   "cell_type": "markdown",
   "id": "72ab3932",
   "metadata": {},
   "source": [
    "Наименование товара | Кол-во | Цена | Цена со скидкой\n",
    ":-------------------|:------:|:----:|:--------------:\n",
    "HORTEX Фасоль стручк. б/зам | 1 | 124.9 | 124.9\n",
    "Яблоки КРИПС ПИНК отборные | 0.466 | 129.90 | 129.90\n",
    "ДОБ.НЕК.БОД.ЦИТ.ап/гр/ман/ли | 2 | 189.90 | 109.90\n",
    "СВЯТ.ИСТ.Вода прир.пит.негаз. ПЭТ 5л | 1 | 104.90 | 104.90\n",
    "СПк Свинина с грибами зап. 1к | 0.178 |\t699.00 |699.00\n",
    "МЯГК ВАФ С ВАР СГ ЯШ | 2 | 37.60 | 37.60\n",
    "КАРТОФЕЛЬ БЕЛЫЙ РАНН | 0.570 | 44.90 | 44.90\n",
    "ЧУДО Мол.ВАН.стер.фр.2% 200г | 5 | 44.90 | 44.90\n",
    "Пакет майка | 1 | 6.90 | 6.90\n",
    "GOUR.Корм MON PETIT.кош.кур. | 10 |\t23.90 |\t17.90\n",
    "Ф-Н.Пюре и/яб/абр со сл/сах | 6 | 57.90\t| 34.90\n",
    "MATTI Мюсли ОРЕХ/ЯБЛОКО 250г | 1 | 129.90 |\t69.90\n",
    "ХЛ.ДОМ Кекс Яг. Лук.нач.ч.см | 1 | 89.90 |\t59.90\n",
    "GREENF.Чай GOLD.CEYL.чер. | 1 | 119.90 | 69.90\n",
    "Куриное Филе ПЕТЕЛ.на подл | 0.758 | 355.01 | 279.89\n",
    "\n",
    "\n",
    "\n",
    "\n",
    "\n"
   ]
  },
  {
   "cell_type": "markdown",
   "id": "efef03aa",
   "metadata": {},
   "source": [
    "**Он же дан в виде списка наименований и нескольких массивов:**"
   ]
  },
  {
   "cell_type": "code",
   "execution_count": 2,
   "id": "ee45615e-fe6f-44f0-be62-a4c0e1c8b28c",
   "metadata": {},
   "outputs": [],
   "source": [
    "import numpy as np\n",
    "\n",
    "names = ['HORTEX Фасоль стручк. б/зам', 'Яблоки КРИПС ПИНК отборные', 'ДОБ.НЕК.БОД.ЦИТ.ап/гр/ман/ли', 'СВЯТ.ИСТ.Вода прир.пит.негаз. ПЭТ 5л', 'СПк Свинина с грибами зап. 1к', 'МЯГК ВАФ С ВАР СГ ЯШ', 'КАРТОФЕЛЬ БЕЛЫЙ РАНН', 'ЧУДО Мол.ВАН.стер.фр.2% 200г', 'Пакет майка', 'GOUR.Корм MON PETIT.кош.кур.', 'Ф-Н.Пюре и/яб/абр со сл/сах', 'MATTI Мюсли ОРЕХ/ЯБЛОКО 250г', 'ХЛ.ДОМ Кекс Яг. Лук.нач.ч.см', 'GREENF.Чай GOLD.CEYL.чер.', 'Куриное Филе ПЕТЕЛ.на подл']\n",
    "volumes = np.array([1, 0.466, 2, 1, 0.178, 2, 0.57, 5, 1, 10, 6, 1, 1, 1, 0.758])\n",
    "price = np.array([124.9, 129.9, 189.9, 104.9, 699.0, 37.6, 44.9, 44.9, 6.9, 23.9, 57.9, 129.9, 89.9, 119.9, 355.01])\n",
    "price_with_discount = np.array([124.9, 129.9, 109.9, 104.9, 699.0, 37.6, 44.9, 44.9, 6.9, 17.9, 34.9, 69.9, 59.9, 69.9, 279.89])"
   ]
  },
  {
   "cell_type": "markdown",
   "id": "90937d68-715c-407a-b299-6df50e5e58d0",
   "metadata": {},
   "source": [
    "**Задание:**\n",
    "\n",
    "1. Посчитать стоимость чека с учётом цены со скидкой \n",
    "2. Посчитать сколько рублей было сэкономлено с учетом скидок\n",
    "3. Найти товар с самой большой скидкой в процентах. Вывести на экран наименование товара, размер его скидки в рублях и процентах\n",
    "4. Вывести 3 самых дорогих позиций в чеке с учётом скидки и объема"
   ]
  },
  {
   "cell_type": "markdown",
   "id": "bce8e556",
   "metadata": {},
   "source": [
    "**Решение:**"
   ]
  },
  {
   "cell_type": "code",
   "execution_count": 4,
   "id": "79d333d1",
   "metadata": {},
   "outputs": [
    {
     "name": "stdout",
     "output_type": "stream",
     "text": [
      "Стоимость чека с учетом скидок: 1767.01 руб\n"
     ]
    }
   ],
   "source": [
    "# Стоимость чека с учетом цены со скидкой:\n",
    "\n",
    "check_with_discount = np.round((volumes * price_with_discount).sum(), 2)\n",
    "print(f\"Стоимость чека с учетом скидок: {check_with_discount} руб\")"
   ]
  },
  {
   "cell_type": "code",
   "execution_count": 5,
   "id": "bbfcc0e5",
   "metadata": {},
   "outputs": [
    {
     "name": "stdout",
     "output_type": "stream",
     "text": [
      "Сэкономлено за счёт скидок: 554.94 руб\n"
     ]
    }
   ],
   "source": [
    "# Кол-во сэкономленных денег в рублях за счёт скидок:\n",
    "\n",
    "saved_money = np.round(((price - price_with_discount) * volumes).sum(), 2)\n",
    "print(f\"Сэкономлено за счёт скидок: {saved_money} руб\")"
   ]
  },
  {
   "cell_type": "code",
   "execution_count": 7,
   "id": "3d82186e",
   "metadata": {},
   "outputs": [
    {
     "name": "stdout",
     "output_type": "stream",
     "text": [
      "Товар с максимальной скидкой: MATTI Мюсли ОРЕХ/ЯБЛОКО 250г\n"
     ]
    }
   ],
   "source": [
    "# Товар с максимальной скидкой:\n",
    "\n",
    "idx_max = (1-price_with_discount / price).argmax() # вычисляем индекс максимальной скидки с массиве\n",
    "\n",
    "product_max_disc = names[idx_max] # зная индекс, находим название товара в списке \n",
    "print(f\"Товар с максимальной скидкой: {product_max_disc}\")"
   ]
  },
  {
   "cell_type": "code",
   "execution_count": 10,
   "id": "b729ce33",
   "metadata": {},
   "outputs": [
    {
     "name": "stdout",
     "output_type": "stream",
     "text": [
      "Максимальная скидка в %: 46.19\n"
     ]
    }
   ],
   "source": [
    "# Максимальная скидка в процентах:\n",
    "\n",
    "max_disc_percent = np.round((1-price_with_discount / price).max() * 100, 2)\n",
    "print(f\"Максимальная скидка в %: {max_disc_percent}\")"
   ]
  },
  {
   "cell_type": "code",
   "execution_count": 12,
   "id": "a3e8568d",
   "metadata": {},
   "outputs": [
    {
     "name": "stdout",
     "output_type": "stream",
     "text": [
      "Макимальная скидка в руб: 60.0\n"
     ]
    }
   ],
   "source": [
    "# Скидка в рублях:\n",
    "\n",
    "disc_rub = price[idx_max] - price_with_discount[idx_max]\n",
    "print(f\"Макимальная скидка в руб: {disc_rub}\")"
   ]
  },
  {
   "cell_type": "code",
   "execution_count": 17,
   "id": "2c03e19c",
   "metadata": {},
   "outputs": [
    {
     "name": "stdout",
     "output_type": "stream",
     "text": [
      "Самые дорогие товары в чеке по возрастанию:\n",
      "Куриное Филе ПЕТЕЛ.на подл\n",
      "ДОБ.НЕК.БОД.ЦИТ.ап/гр/ман/ли\n",
      "ЧУДО Мол.ВАН.стер.фр.2% 200г\n"
     ]
    }
   ],
   "source": [
    "# Три самых дорогих товара в чеке с учётом объхёма и скидки:\n",
    "\n",
    "idx_sorted = (volumes * price_with_discount).argsort() # получил отсортированный список индексов стоимостей по возрастанию\n",
    "\n",
    "idx_max3 = list(idx_sorted[-3:]) # оставил индексы 3-х самых дорогих товаров в списке \n",
    "\n",
    "print(\"Самые дорогие товары в чеке по возрастанию:\")\n",
    "\n",
    "for goods in idx_max3:\n",
    "    print(names[goods])\n",
    "    \n",
    "    \n"
   ]
  }
 ],
 "metadata": {
  "kernelspec": {
   "display_name": "Python 3 (ipykernel)",
   "language": "python",
   "name": "python3"
  },
  "language_info": {
   "codemirror_mode": {
    "name": "ipython",
    "version": 3
   },
   "file_extension": ".py",
   "mimetype": "text/x-python",
   "name": "python",
   "nbconvert_exporter": "python",
   "pygments_lexer": "ipython3",
   "version": "3.8.7"
  }
 },
 "nbformat": 4,
 "nbformat_minor": 5
}
